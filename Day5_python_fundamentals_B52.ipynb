{
 "cells": [
  {
   "cell_type": "code",
   "execution_count": null,
   "id": "6a4371ba",
   "metadata": {},
   "outputs": [],
   "source": [
    "organising the list data types:"
   ]
  },
  {
   "cell_type": "code",
   "execution_count": null,
   "id": "6cfc82e1",
   "metadata": {},
   "outputs": [],
   "source": [
    "cars = ['kia','benz','audi','bmw','maruthi']"
   ]
  },
  {
   "cell_type": "code",
   "execution_count": 3,
   "id": "dc900b1f",
   "metadata": {},
   "outputs": [
    {
     "ename": "NameError",
     "evalue": "name 'cars' is not defined",
     "output_type": "error",
     "traceback": [
      "\u001b[1;31m---------------------------------------------------------------------------\u001b[0m",
      "\u001b[1;31mNameError\u001b[0m                                 Traceback (most recent call last)",
      "\u001b[1;32m<ipython-input-3-7c7e0b67932f>\u001b[0m in \u001b[0;36m<module>\u001b[1;34m\u001b[0m\n\u001b[1;32m----> 1\u001b[1;33m \u001b[0mprint\u001b[0m\u001b[1;33m(\u001b[0m\u001b[0mcars\u001b[0m\u001b[1;33m)\u001b[0m\u001b[1;33m\u001b[0m\u001b[1;33m\u001b[0m\u001b[0m\n\u001b[0m",
      "\u001b[1;31mNameError\u001b[0m: name 'cars' is not defined"
     ]
    }
   ],
   "source": [
    "print(cars)"
   ]
  },
  {
   "cell_type": "code",
   "execution_count": 4,
   "id": "aa000ea4",
   "metadata": {},
   "outputs": [
    {
     "name": "stdout",
     "output_type": "stream",
     "text": [
      "['kia', 'benz', 'audi', 'bmw', 'suzuki', 'maruthi']\n"
     ]
    }
   ],
   "source": [
    "cars = ['kia','benz','audi','bmw','suzuki','maruthi']\n",
    "print(cars)"
   ]
  },
  {
   "cell_type": "code",
   "execution_count": 5,
   "id": "555d309d",
   "metadata": {},
   "outputs": [
    {
     "data": {
      "text/plain": [
       "list"
      ]
     },
     "execution_count": 5,
     "metadata": {},
     "output_type": "execute_result"
    }
   ],
   "source": [
    "type(cars)"
   ]
  },
  {
   "cell_type": "code",
   "execution_count": null,
   "id": "5e96b4a4",
   "metadata": {},
   "outputs": [],
   "source": [
    "# req : I want to organise the above cars list in a alphabetical order ------  A-Z order\n",
    "2 possible approahes :\n",
    "1. temp approach -----> we can able to maintain the original of the list ====>sorted\n",
    "2. permanent approach ----> changes are fixed , cant go back to the original order. ====> sort"
   ]
  },
  {
   "cell_type": "code",
   "execution_count": 6,
   "id": "c3f48220",
   "metadata": {},
   "outputs": [
    {
     "name": "stdout",
     "output_type": "stream",
     "text": [
      "['audi', 'benz', 'bmw', 'kia', 'maruthi', 'suzuki']\n"
     ]
    }
   ],
   "source": [
    "# temp approach.  ------> 1. A---->Z\n",
    "print(sorted(cars))"
   ]
  },
  {
   "cell_type": "code",
   "execution_count": 7,
   "id": "08079a91",
   "metadata": {},
   "outputs": [
    {
     "name": "stdout",
     "output_type": "stream",
     "text": [
      "['kia', 'benz', 'audi', 'bmw', 'suzuki', 'maruthi']\n"
     ]
    }
   ],
   "source": [
    "print(cars)             #this is the original order"
   ]
  },
  {
   "cell_type": "code",
   "execution_count": null,
   "id": "c4621ead",
   "metadata": {},
   "outputs": [],
   "source": [
    "benz , bmw ====> e , m "
   ]
  },
  {
   "cell_type": "code",
   "execution_count": 8,
   "id": "1081a3a7",
   "metadata": {},
   "outputs": [],
   "source": [
    "# permanent approach :\n",
    "cars.sort()"
   ]
  },
  {
   "cell_type": "code",
   "execution_count": 9,
   "id": "05293e34",
   "metadata": {},
   "outputs": [
    {
     "name": "stdout",
     "output_type": "stream",
     "text": [
      "['audi', 'benz', 'bmw', 'kia', 'maruthi', 'suzuki']\n"
     ]
    }
   ],
   "source": [
    "print(cars)"
   ]
  },
  {
   "cell_type": "code",
   "execution_count": 10,
   "id": "cc7bf5a1",
   "metadata": {},
   "outputs": [
    {
     "name": "stdout",
     "output_type": "stream",
     "text": [
      "['audi', 'benz', 'bmw', 'kia', 'maruthi', 'suzuki']\n"
     ]
    }
   ],
   "source": [
    "print(cars)"
   ]
  },
  {
   "cell_type": "code",
   "execution_count": null,
   "id": "0f5f1b86",
   "metadata": {},
   "outputs": [],
   "source": [
    "# req :how to print the list in a reverse order.....? ******IMP"
   ]
  },
  {
   "cell_type": "code",
   "execution_count": 11,
   "id": "43e63db3",
   "metadata": {},
   "outputs": [
    {
     "name": "stdout",
     "output_type": "stream",
     "text": [
      "['audi', 'benz', 'bmw', 'kia', 'maruthi', 'suzuki']\n"
     ]
    }
   ],
   "source": [
    "print(cars\n",
    "    )"
   ]
  },
  {
   "cell_type": "code",
   "execution_count": null,
   "id": "cb2a9562",
   "metadata": {},
   "outputs": [],
   "source": [
    "cars.revrse()              # the changes are applies permanently"
   ]
  },
  {
   "cell_type": "code",
   "execution_count": 14,
   "id": "a9f34db9",
   "metadata": {},
   "outputs": [],
   "source": [
    "cars.reverse()"
   ]
  },
  {
   "cell_type": "code",
   "execution_count": 15,
   "id": "4ec2b6f2",
   "metadata": {},
   "outputs": [
    {
     "name": "stdout",
     "output_type": "stream",
     "text": [
      "['suzuki', 'maruthi', 'kia', 'bmw', 'benz', 'audi']\n"
     ]
    }
   ],
   "source": [
    "print(cars)"
   ]
  },
  {
   "cell_type": "code",
   "execution_count": 16,
   "id": "bc146bf2",
   "metadata": {},
   "outputs": [
    {
     "name": "stdout",
     "output_type": "stream",
     "text": [
      "['suzuki', 'maruthi', 'kia', 'bmw', 'benz', 'audi']\n"
     ]
    }
   ],
   "source": [
    "print(cars)"
   ]
  },
  {
   "cell_type": "code",
   "execution_count": null,
   "id": "226003e6",
   "metadata": {},
   "outputs": [],
   "source": [
    "# req : to count the number of elements in the list.....?"
   ]
  },
  {
   "cell_type": "code",
   "execution_count": 17,
   "id": "8a363344",
   "metadata": {},
   "outputs": [
    {
     "data": {
      "text/plain": [
       "6"
      ]
     },
     "execution_count": 17,
     "metadata": {},
     "output_type": "execute_result"
    }
   ],
   "source": [
    "len(cars)"
   ]
  },
  {
   "cell_type": "code",
   "execution_count": null,
   "id": "284ab403",
   "metadata": {},
   "outputs": [],
   "source": []
  },
  {
   "cell_type": "code",
   "execution_count": null,
   "id": "d8e2af70",
   "metadata": {},
   "outputs": [],
   "source": [
    "Slicing of lists:"
   ]
  },
  {
   "cell_type": "code",
   "execution_count": 18,
   "id": "f9908f58",
   "metadata": {},
   "outputs": [
    {
     "name": "stdout",
     "output_type": "stream",
     "text": [
      "['suveditha', 'farheen', 'kumar', 'imran', 'surya', 'hameed']\n"
     ]
    }
   ],
   "source": [
    "students = ['suveditha','farheen','kumar','imran','surya','hameed']\n",
    "print(students)"
   ]
  },
  {
   "cell_type": "code",
   "execution_count": null,
   "id": "078302c1",
   "metadata": {},
   "outputs": [],
   "source": [
    "General syntax of slicing :\n",
    "startvalue:stopvalue:stepcount ==============> indexing.\n",
    "Note: Last value or stopvalue is always exclusive , that means it will be included in part of the slice.\n",
    "Note2 : increment the index by 1 to inlude the lastvalue or stop value    "
   ]
  },
  {
   "cell_type": "code",
   "execution_count": null,
   "id": "be3e0967",
   "metadata": {},
   "outputs": [],
   "source": [
    "# req : I want to include suveditha and farheen in the same slice."
   ]
  },
  {
   "cell_type": "code",
   "execution_count": 19,
   "id": "07318001",
   "metadata": {},
   "outputs": [
    {
     "name": "stdout",
     "output_type": "stream",
     "text": [
      "['suveditha']\n"
     ]
    }
   ],
   "source": [
    "print(students[0:1])"
   ]
  },
  {
   "cell_type": "code",
   "execution_count": 20,
   "id": "61016bb0",
   "metadata": {},
   "outputs": [
    {
     "name": "stdout",
     "output_type": "stream",
     "text": [
      "['suveditha', 'farheen']\n"
     ]
    }
   ],
   "source": [
    "print(students[0:2])"
   ]
  },
  {
   "cell_type": "code",
   "execution_count": 22,
   "id": "567abec3",
   "metadata": {},
   "outputs": [
    {
     "name": "stdout",
     "output_type": "stream",
     "text": [
      "['kumar', 'imran']\n"
     ]
    }
   ],
   "source": [
    "# req : I want to include kumar and imran in the same slice.\n",
    "print(students[2:4])"
   ]
  },
  {
   "cell_type": "code",
   "execution_count": 23,
   "id": "2833d0b1",
   "metadata": {},
   "outputs": [
    {
     "name": "stdout",
     "output_type": "stream",
     "text": [
      "['surya', 'hameed']\n"
     ]
    }
   ],
   "source": [
    "# req : I want to include surya and hameed in the same slice.\n",
    "print(students[4:6])"
   ]
  },
  {
   "cell_type": "code",
   "execution_count": 24,
   "id": "f9d0d24f",
   "metadata": {},
   "outputs": [
    {
     "name": "stdout",
     "output_type": "stream",
     "text": [
      "['suveditha', 'imran']\n"
     ]
    }
   ],
   "source": [
    "print(students[0:6:3])"
   ]
  },
  {
   "cell_type": "code",
   "execution_count": 25,
   "id": "fc63fb4f",
   "metadata": {},
   "outputs": [
    {
     "name": "stdout",
     "output_type": "stream",
     "text": [
      "['suveditha', 'kumar', 'surya']\n"
     ]
    }
   ],
   "source": [
    "print(students[0:6:2])"
   ]
  },
  {
   "cell_type": "code",
   "execution_count": 26,
   "id": "49aaed75",
   "metadata": {},
   "outputs": [
    {
     "name": "stdout",
     "output_type": "stream",
     "text": [
      "['suveditha', 'farheen', 'kumar', 'imran', 'surya']\n"
     ]
    }
   ],
   "source": [
    "print(students[0:5])"
   ]
  },
  {
   "cell_type": "code",
   "execution_count": 27,
   "id": "7091099b",
   "metadata": {},
   "outputs": [
    {
     "name": "stdout",
     "output_type": "stream",
     "text": [
      "['farheen', 'kumar']\n"
     ]
    }
   ],
   "source": [
    "print(students[1:3])"
   ]
  },
  {
   "cell_type": "code",
   "execution_count": 28,
   "id": "af7d3c53",
   "metadata": {},
   "outputs": [
    {
     "name": "stdout",
     "output_type": "stream",
     "text": [
      "['suveditha', 'farheen', 'kumar', 'imran', 'surya', 'hameed']\n"
     ]
    }
   ],
   "source": [
    "print(students)"
   ]
  },
  {
   "cell_type": "code",
   "execution_count": null,
   "id": "09c66d53",
   "metadata": {},
   "outputs": [],
   "source": [
    "Day5..............."
   ]
  },
  {
   "cell_type": "code",
   "execution_count": null,
   "id": "424c0b29",
   "metadata": {},
   "outputs": [],
   "source": []
  }
 ],
 "metadata": {
  "kernelspec": {
   "display_name": "Python 3",
   "language": "python",
   "name": "python3"
  },
  "language_info": {
   "codemirror_mode": {
    "name": "ipython",
    "version": 3
   },
   "file_extension": ".py",
   "mimetype": "text/x-python",
   "name": "python",
   "nbconvert_exporter": "python",
   "pygments_lexer": "ipython3",
   "version": "3.8.8"
  }
 },
 "nbformat": 4,
 "nbformat_minor": 5
}
