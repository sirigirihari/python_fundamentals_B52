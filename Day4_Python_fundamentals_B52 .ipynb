{
 "cells": [
  {
   "cell_type": "code",
   "execution_count": null,
   "id": "82f1a370",
   "metadata": {},
   "outputs": [],
   "source": [
    "Introduction to list datatype :\n",
    "\n",
    "definetionb : A list is a collection of items in a particular order.\n",
    "classification :it is classifies as a mutable datatypes.\n",
    "how do you declare a list.-----> []   =========> square brakets."
   ]
  },
  {
   "cell_type": "code",
   "execution_count": 1,
   "id": "6b8d8acd",
   "metadata": {},
   "outputs": [
    {
     "name": "stdout",
     "output_type": "stream",
     "text": [
      "['naveen', 'kranthi', 'hameed', 'john', 'farheen', 'swetha']\n"
     ]
    }
   ],
   "source": [
    "students = ['naveen', 'kranthi','hameed','john','farheen','swetha']       # 0,1,2,3,4\n",
    "print(students)"
   ]
  },
  {
   "cell_type": "code",
   "execution_count": 2,
   "id": "61bf2b56",
   "metadata": {},
   "outputs": [
    {
     "data": {
      "text/plain": [
       "list"
      ]
     },
     "execution_count": 2,
     "metadata": {},
     "output_type": "execute_result"
    }
   ],
   "source": [
    "type(students\n",
    ")"
   ]
  },
  {
   "cell_type": "code",
   "execution_count": null,
   "id": "c8f055c5",
   "metadata": {},
   "outputs": [],
   "source": [
    "# req :how to access the elements from the list....?"
   ]
  },
  {
   "cell_type": "code",
   "execution_count": null,
   "id": "5b9b2381",
   "metadata": {},
   "outputs": [],
   "source": [
    "indexing : 0,1,2,3,4...."
   ]
  },
  {
   "cell_type": "code",
   "execution_count": 3,
   "id": "922d117c",
   "metadata": {},
   "outputs": [
    {
     "name": "stdout",
     "output_type": "stream",
     "text": [
      "kranthi\n"
     ]
    }
   ],
   "source": [
    "print(students[1])"
   ]
  },
  {
   "cell_type": "code",
   "execution_count": 4,
   "id": "9b3b3c8e",
   "metadata": {},
   "outputs": [
    {
     "name": "stdout",
     "output_type": "stream",
     "text": [
      "john\n"
     ]
    }
   ],
   "source": [
    "print(students[3])"
   ]
  },
  {
   "cell_type": "code",
   "execution_count": 5,
   "id": "d75a3e07",
   "metadata": {},
   "outputs": [
    {
     "name": "stdout",
     "output_type": "stream",
     "text": [
      "John\n"
     ]
    }
   ],
   "source": [
    "print(students[3].title())"
   ]
  },
  {
   "cell_type": "code",
   "execution_count": null,
   "id": "1a84a059",
   "metadata": {},
   "outputs": [],
   "source": [
    "1. how to add new elements to the list\n",
    "2. how to modify the elements in the list\n",
    "3. how to delete the elements in the list"
   ]
  },
  {
   "cell_type": "code",
   "execution_count": 6,
   "id": "4ec6f876",
   "metadata": {},
   "outputs": [
    {
     "name": "stdout",
     "output_type": "stream",
     "text": [
      "['naveen', 'kranthi', 'hameed', 'john', 'farheen', 'swetha']\n"
     ]
    }
   ],
   "source": [
    "print(students\n",
    "     )"
   ]
  },
  {
   "cell_type": "code",
   "execution_count": null,
   "id": "83f8fd77",
   "metadata": {},
   "outputs": [],
   "source": [
    "1. how to add new elements to the list\n",
    "# req : I want to add rafi to the above list ?"
   ]
  },
  {
   "cell_type": "code",
   "execution_count": 7,
   "id": "046161b5",
   "metadata": {},
   "outputs": [],
   "source": [
    "students.append('rafi')"
   ]
  },
  {
   "cell_type": "code",
   "execution_count": 8,
   "id": "f05cafca",
   "metadata": {},
   "outputs": [
    {
     "name": "stdout",
     "output_type": "stream",
     "text": [
      "['naveen', 'kranthi', 'hameed', 'john', 'farheen', 'swetha', 'rafi']\n"
     ]
    }
   ],
   "source": [
    "print(students\n",
    "    )"
   ]
  },
  {
   "cell_type": "code",
   "execution_count": null,
   "id": "522bff89",
   "metadata": {},
   "outputs": [],
   "source": [
    "# req : I want to add suveditha to the above list ?"
   ]
  },
  {
   "cell_type": "code",
   "execution_count": 9,
   "id": "cf7da58b",
   "metadata": {},
   "outputs": [],
   "source": [
    "students.append('suveditha')"
   ]
  },
  {
   "cell_type": "code",
   "execution_count": 10,
   "id": "e5e2a9cd",
   "metadata": {},
   "outputs": [
    {
     "name": "stdout",
     "output_type": "stream",
     "text": [
      "['naveen', 'kranthi', 'hameed', 'john', 'farheen', 'swetha', 'rafi', 'suveditha']\n"
     ]
    }
   ],
   "source": [
    "print(students)"
   ]
  },
  {
   "cell_type": "code",
   "execution_count": null,
   "id": "d0363b90",
   "metadata": {},
   "outputs": [],
   "source": [
    "#I want to add kiran to 2nd index? "
   ]
  },
  {
   "cell_type": "code",
   "execution_count": 11,
   "id": "92869815",
   "metadata": {},
   "outputs": [
    {
     "ename": "NameError",
     "evalue": "name 'sudents' is not defined",
     "output_type": "error",
     "traceback": [
      "\u001b[1;31m---------------------------------------------------------------------------\u001b[0m",
      "\u001b[1;31mNameError\u001b[0m                                 Traceback (most recent call last)",
      "\u001b[1;32m<ipython-input-11-36a4af8e7aef>\u001b[0m in \u001b[0;36m<module>\u001b[1;34m\u001b[0m\n\u001b[1;32m----> 1\u001b[1;33m \u001b[0msudents\u001b[0m\u001b[1;33m.\u001b[0m\u001b[0minsert\u001b[0m\u001b[1;33m(\u001b[0m\u001b[1;36m2\u001b[0m\u001b[1;33m,\u001b[0m\u001b[1;34m'kiran'\u001b[0m\u001b[1;33m)\u001b[0m\u001b[1;33m\u001b[0m\u001b[1;33m\u001b[0m\u001b[0m\n\u001b[0m",
      "\u001b[1;31mNameError\u001b[0m: name 'sudents' is not defined"
     ]
    }
   ],
   "source": [
    "sudents.insert(2,'kiran')"
   ]
  },
  {
   "cell_type": "code",
   "execution_count": 12,
   "id": "ee96f3d3",
   "metadata": {},
   "outputs": [],
   "source": [
    "students.insert(2,'kiran')"
   ]
  },
  {
   "cell_type": "code",
   "execution_count": 13,
   "id": "bc3e9d69",
   "metadata": {},
   "outputs": [
    {
     "name": "stdout",
     "output_type": "stream",
     "text": [
      "['naveen', 'kranthi', 'kiran', 'hameed', 'john', 'farheen', 'swetha', 'rafi', 'suveditha']\n"
     ]
    }
   ],
   "source": [
    "print(students)"
   ]
  },
  {
   "cell_type": "code",
   "execution_count": null,
   "id": "e373599e",
   "metadata": {},
   "outputs": [],
   "source": [
    "Interview Question : What is the difference between append and insert in the list ? can you explain?"
   ]
  },
  {
   "cell_type": "code",
   "execution_count": null,
   "id": "7c4495bc",
   "metadata": {},
   "outputs": [],
   "source": [
    "2. how to modify the elements?"
   ]
  },
  {
   "cell_type": "code",
   "execution_count": 14,
   "id": "3e70a457",
   "metadata": {},
   "outputs": [
    {
     "name": "stdout",
     "output_type": "stream",
     "text": [
      "['naveen', 'kranthi', 'kiran', 'hameed', 'john', 'farheen', 'swetha', 'rafi', 'suveditha']\n"
     ]
    }
   ],
   "source": [
    "print(students)"
   ]
  },
  {
   "cell_type": "code",
   "execution_count": null,
   "id": "831acbe3",
   "metadata": {},
   "outputs": [],
   "source": [
    "# req : I want to modify  naveen to namita ?"
   ]
  },
  {
   "cell_type": "code",
   "execution_count": 16,
   "id": "4a00780a",
   "metadata": {},
   "outputs": [
    {
     "name": "stdout",
     "output_type": "stream",
     "text": [
      "['namitha', 'kranthi', 'kiran', 'hameed', 'john', 'farheen', 'swetha', 'rafi', 'suveditha']\n"
     ]
    }
   ],
   "source": [
    "students[0]='namitha'\n",
    "print(students)"
   ]
  },
  {
   "cell_type": "code",
   "execution_count": null,
   "id": "c88c66ef",
   "metadata": {},
   "outputs": [],
   "source": [
    "3. how to delete the element in a list... ?"
   ]
  },
  {
   "cell_type": "code",
   "execution_count": 17,
   "id": "1376713a",
   "metadata": {},
   "outputs": [
    {
     "name": "stdout",
     "output_type": "stream",
     "text": [
      "['namitha', 'kranthi', 'kiran', 'hameed', 'john', 'farheen', 'swetha', 'rafi', 'suveditha']\n"
     ]
    }
   ],
   "source": [
    "print(students)"
   ]
  },
  {
   "cell_type": "code",
   "execution_count": null,
   "id": "578bc9dd",
   "metadata": {},
   "outputs": [],
   "source": [
    "# req : I want to delete kiran name in the list...?"
   ]
  },
  {
   "cell_type": "code",
   "execution_count": 18,
   "id": "2c9f7ab7",
   "metadata": {},
   "outputs": [
    {
     "name": "stdout",
     "output_type": "stream",
     "text": [
      "['namitha', 'kranthi', 'hameed', 'john', 'farheen', 'swetha', 'rafi', 'suveditha']\n"
     ]
    }
   ],
   "source": [
    "del students [2]\n",
    "print(students)"
   ]
  },
  {
   "cell_type": "code",
   "execution_count": null,
   "id": "3505bc95",
   "metadata": {},
   "outputs": [],
   "source": [
    "Day4.................."
   ]
  },
  {
   "cell_type": "code",
   "execution_count": null,
   "id": "5e25568d",
   "metadata": {},
   "outputs": [],
   "source": []
  },
  {
   "cell_type": "code",
   "execution_count": null,
   "id": "00b5a631",
   "metadata": {},
   "outputs": [],
   "source": []
  },
  {
   "cell_type": "code",
   "execution_count": null,
   "id": "7f364c87",
   "metadata": {},
   "outputs": [],
   "source": []
  },
  {
   "cell_type": "code",
   "execution_count": null,
   "id": "a2589221",
   "metadata": {},
   "outputs": [],
   "source": []
  },
  {
   "cell_type": "code",
   "execution_count": null,
   "id": "0b029ecc",
   "metadata": {},
   "outputs": [],
   "source": []
  },
  {
   "cell_type": "code",
   "execution_count": null,
   "id": "301c83eb",
   "metadata": {},
   "outputs": [],
   "source": []
  },
  {
   "cell_type": "code",
   "execution_count": null,
   "id": "2f01ea7f",
   "metadata": {},
   "outputs": [],
   "source": []
  },
  {
   "cell_type": "code",
   "execution_count": null,
   "id": "ffd85b05",
   "metadata": {},
   "outputs": [],
   "source": []
  }
 ],
 "metadata": {
  "kernelspec": {
   "display_name": "Python 3",
   "language": "python",
   "name": "python3"
  },
  "language_info": {
   "codemirror_mode": {
    "name": "ipython",
    "version": 3
   },
   "file_extension": ".py",
   "mimetype": "text/x-python",
   "name": "python",
   "nbconvert_exporter": "python",
   "pygments_lexer": "ipython3",
   "version": "3.8.8"
  }
 },
 "nbformat": 4,
 "nbformat_minor": 5
}
