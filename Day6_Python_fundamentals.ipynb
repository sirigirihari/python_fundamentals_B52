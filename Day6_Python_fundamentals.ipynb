{
 "cells": [
  {
   "cell_type": "code",
   "execution_count": null,
   "id": "5856b08d",
   "metadata": {},
   "outputs": [],
   "source": [
    "Introduction to looping statements: **********IMP"
   ]
  },
  {
   "cell_type": "code",
   "execution_count": 1,
   "id": "b5f0ebf4",
   "metadata": {},
   "outputs": [
    {
     "name": "stdout",
     "output_type": "stream",
     "text": [
      "['kranthi', 'shreya', 'pooja', 'sajid', 'namitha']\n"
     ]
    }
   ],
   "source": [
    "students = ['kranthi','shreya','pooja','sajid','namitha']\n",
    "print(students)"
   ]
  },
  {
   "cell_type": "code",
   "execution_count": 2,
   "id": "14d2f782",
   "metadata": {},
   "outputs": [
    {
     "data": {
      "text/plain": [
       "list"
      ]
     },
     "execution_count": 2,
     "metadata": {},
     "output_type": "execute_result"
    }
   ],
   "source": [
    "type(students)"
   ]
  },
  {
   "cell_type": "code",
   "execution_count": null,
   "id": "69ae9e47",
   "metadata": {},
   "outputs": [],
   "source": [
    "#req : I want to appreciate all the students in the list "
   ]
  },
  {
   "cell_type": "code",
   "execution_count": 3,
   "id": "b27ef294",
   "metadata": {},
   "outputs": [
    {
     "name": "stdout",
     "output_type": "stream",
     "text": [
      "keep up the good work, kranthi\n"
     ]
    }
   ],
   "source": [
    "print(f\"keep up the good work, {students[0]}\")"
   ]
  },
  {
   "cell_type": "code",
   "execution_count": 4,
   "id": "a35ad786",
   "metadata": {},
   "outputs": [
    {
     "name": "stdout",
     "output_type": "stream",
     "text": [
      "keep up the good work, Kranthi\n"
     ]
    }
   ],
   "source": [
    "print(f\"keep up the good work, {students[0].title()}\")"
   ]
  },
  {
   "cell_type": "code",
   "execution_count": 5,
   "id": "fb64db0c",
   "metadata": {},
   "outputs": [
    {
     "name": "stdout",
     "output_type": "stream",
     "text": [
      "keep up the good work, Shreya\n"
     ]
    }
   ],
   "source": [
    "print(f\"keep up the good work, {students[1].title()}\")"
   ]
  },
  {
   "cell_type": "code",
   "execution_count": 6,
   "id": "7e2fcd4b",
   "metadata": {},
   "outputs": [
    {
     "name": "stdout",
     "output_type": "stream",
     "text": [
      "keep up the good work, Pooja\n"
     ]
    }
   ],
   "source": [
    "print(f\"keep up the good work, {students[2].title()}\")"
   ]
  },
  {
   "cell_type": "code",
   "execution_count": null,
   "id": "3a911508",
   "metadata": {},
   "outputs": [],
   "source": [
    "#general syntax of a list datatype:"
   ]
  },
  {
   "cell_type": "code",
   "execution_count": null,
   "id": "44167a6f",
   "metadata": {},
   "outputs": [],
   "source": [
    "for tempvar in mainvar:\n",
    "    print(tempvar)"
   ]
  },
  {
   "cell_type": "code",
   "execution_count": 7,
   "id": "a7f58186",
   "metadata": {},
   "outputs": [
    {
     "name": "stdout",
     "output_type": "stream",
     "text": [
      "keep up the good work, Kranthi\n",
      "keep up the good work, Shreya\n",
      "keep up the good work, Pooja\n",
      "keep up the good work, Sajid\n",
      "keep up the good work, Namitha\n"
     ]
    }
   ],
   "source": [
    "for x in students:\n",
    "    print(f\"keep up the good work, {x.title()}\")"
   ]
  },
  {
   "cell_type": "code",
   "execution_count": 8,
   "id": "bffdb075",
   "metadata": {},
   "outputs": [
    {
     "name": "stdout",
     "output_type": "stream",
     "text": [
      "keep up the good work, Kranthi\n",
      "keep up the good work, Shreya\n",
      "keep up the good work, Pooja\n",
      "keep up the good work, Sajid\n",
      "keep up the good work, Namitha\n"
     ]
    }
   ],
   "source": [
    "for ironman in students:\n",
    "    print(f\"keep up the good work, {ironman.title()}\")   #indentation"
   ]
  },
  {
   "cell_type": "code",
   "execution_count": 9,
   "id": "b1215576",
   "metadata": {},
   "outputs": [
    {
     "ename": "IndentationError",
     "evalue": "expected an indented block (<ipython-input-9-9551028f2c80>, line 2)",
     "output_type": "error",
     "traceback": [
      "\u001b[1;36m  File \u001b[1;32m\"<ipython-input-9-9551028f2c80>\"\u001b[1;36m, line \u001b[1;32m2\u001b[0m\n\u001b[1;33m    print(f\"keep up the good work, {ironman.title()}\")\u001b[0m\n\u001b[1;37m    ^\u001b[0m\n\u001b[1;31mIndentationError\u001b[0m\u001b[1;31m:\u001b[0m expected an indented block\n"
     ]
    }
   ],
   "source": [
    "for ironman in students:\n",
    "print(f\"keep up the good work, {ironman.title()}\")"
   ]
  },
  {
   "cell_type": "code",
   "execution_count": null,
   "id": "0bb6f46d",
   "metadata": {},
   "outputs": [],
   "source": [
    "#req"
   ]
  },
  {
   "cell_type": "code",
   "execution_count": 10,
   "id": "0be0c2a4",
   "metadata": {},
   "outputs": [
    {
     "name": "stdout",
     "output_type": "stream",
     "text": [
      "keep up the good work, Kranthi\n",
      "please do send me the practise file of today,Kranthi\n",
      "keep up the good work, Shreya\n",
      "please do send me the practise file of today,Shreya\n",
      "keep up the good work, Pooja\n",
      "please do send me the practise file of today,Pooja\n",
      "keep up the good work, Sajid\n",
      "please do send me the practise file of today,Sajid\n",
      "keep up the good work, Namitha\n",
      "please do send me the practise file of today,Namitha\n"
     ]
    }
   ],
   "source": [
    "for x in students:\n",
    "    print(f\"keep up the good work, {x.title()}\")\n",
    "    print(f\"please do send me the practise file of today,{x.title()}\")"
   ]
  },
  {
   "cell_type": "code",
   "execution_count": 11,
   "id": "b2f1fa29",
   "metadata": {},
   "outputs": [
    {
     "name": "stdout",
     "output_type": "stream",
     "text": [
      "keep up the good work, Kranthi\n",
      "please do send me the practise file of today,Kranthi.\n",
      "\n",
      "keep up the good work, Shreya\n",
      "please do send me the practise file of today,Shreya.\n",
      "\n",
      "keep up the good work, Pooja\n",
      "please do send me the practise file of today,Pooja.\n",
      "\n",
      "keep up the good work, Sajid\n",
      "please do send me the practise file of today,Sajid.\n",
      "\n",
      "keep up the good work, Namitha\n",
      "please do send me the practise file of today,Namitha.\n",
      "\n"
     ]
    }
   ],
   "source": [
    "for x in students:\n",
    "    print(f\"keep up the good work, {x.title()}\")\n",
    "    print(f\"please do send me the practise file of today,{x.title()}.\\n\")"
   ]
  },
  {
   "cell_type": "code",
   "execution_count": 14,
   "id": "200050d3",
   "metadata": {},
   "outputs": [
    {
     "name": "stdout",
     "output_type": "stream",
     "text": [
      "keep up the good work, Kranthi\n",
      "please do send me the practise file of today,Kranthi.\n",
      "\n",
      "keep up the good work, Shreya\n",
      "please do send me the practise file of today,Shreya.\n",
      "\n",
      "keep up the good work, Pooja\n",
      "please do send me the practise file of today,Pooja.\n",
      "\n",
      "keep up the good work, Sajid\n",
      "please do send me the practise file of today,Sajid.\n",
      "\n",
      "keep up the good work, Namitha\n",
      "please do send me the practise file of today,Namitha.\n",
      "\n",
      "Thank you all for showing the intrest to learn python\n"
     ]
    }
   ],
   "source": [
    "for x in students:\n",
    "    print(f\"keep up the good work, {x.title()}\")\n",
    "    print(f\"please do send me the practise file of today,{x.title()}.\\n\")\n",
    "\n",
    "print(\"Thank you all for showing the intrest to learn python\")"
   ]
  },
  {
   "cell_type": "code",
   "execution_count": null,
   "id": "f659533c",
   "metadata": {},
   "outputs": [],
   "source": []
  },
  {
   "cell_type": "code",
   "execution_count": null,
   "id": "65809994",
   "metadata": {},
   "outputs": [],
   "source": []
  }
 ],
 "metadata": {
  "kernelspec": {
   "display_name": "Python 3",
   "language": "python",
   "name": "python3"
  },
  "language_info": {
   "codemirror_mode": {
    "name": "ipython",
    "version": 3
   },
   "file_extension": ".py",
   "mimetype": "text/x-python",
   "name": "python",
   "nbconvert_exporter": "python",
   "pygments_lexer": "ipython3",
   "version": "3.8.8"
  }
 },
 "nbformat": 4,
 "nbformat_minor": 5
}
