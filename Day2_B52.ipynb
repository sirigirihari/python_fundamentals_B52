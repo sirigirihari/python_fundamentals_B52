{
 "cells": [
  {
   "cell_type": "code",
   "execution_count": 5,
   "id": "99196780",
   "metadata": {},
   "outputs": [
    {
     "ename": "SyntaxError",
     "evalue": "invalid syntax (<ipython-input-5-5510afa80c7d>, line 1)",
     "output_type": "error",
     "traceback": [
      "\u001b[1;36m  File \u001b[1;32m\"<ipython-input-5-5510afa80c7d>\"\u001b[1;36m, line \u001b[1;32m1\u001b[0m\n\u001b[1;33m    understanding the variables in python:\u001b[0m\n\u001b[1;37m                  ^\u001b[0m\n\u001b[1;31mSyntaxError\u001b[0m\u001b[1;31m:\u001b[0m invalid syntax\n"
     ]
    }
   ],
   "source": [
    "understanding the variables in python:"
   ]
  },
  {
   "cell_type": "code",
   "execution_count": 6,
   "id": "6748e680",
   "metadata": {},
   "outputs": [
    {
     "name": "stdout",
     "output_type": "stream",
     "text": [
      "8\n"
     ]
    }
   ],
   "source": [
    "x=5\n",
    "y=3\n",
    "z=x+y\n",
    "print(z)"
   ]
  },
  {
   "cell_type": "code",
   "execution_count": null,
   "id": "6f7fa981",
   "metadata": {},
   "outputs": [],
   "source": [
    "Rules for declaring the variables in python:"
   ]
  },
  {
   "cell_type": "code",
   "execution_count": null,
   "id": "55230f74",
   "metadata": {},
   "outputs": [],
   "source": [
    "Rule no 1 : No name spaces while declaring the variable name"
   ]
  },
  {
   "cell_type": "code",
   "execution_count": 7,
   "id": "353ddf8a",
   "metadata": {},
   "outputs": [
    {
     "ename": "SyntaxError",
     "evalue": "invalid syntax (<ipython-input-7-2c65cf70718e>, line 1)",
     "output_type": "error",
     "traceback": [
      "\u001b[1;36m  File \u001b[1;32m\"<ipython-input-7-2c65cf70718e>\"\u001b[1;36m, line \u001b[1;32m1\u001b[0m\n\u001b[1;33m    first name = 'Faiyaz'\u001b[0m\n\u001b[1;37m          ^\u001b[0m\n\u001b[1;31mSyntaxError\u001b[0m\u001b[1;31m:\u001b[0m invalid syntax\n"
     ]
    }
   ],
   "source": [
    "first name = 'Faiyaz'\n",
    "print(first name)"
   ]
  },
  {
   "cell_type": "code",
   "execution_count": 9,
   "id": "983312f6",
   "metadata": {},
   "outputs": [
    {
     "name": "stdout",
     "output_type": "stream",
     "text": [
      "Faiyaz\n"
     ]
    }
   ],
   "source": [
    "firstname= 'Faiyaz'\n",
    "print(firstname)"
   ]
  },
  {
   "cell_type": "code",
   "execution_count": null,
   "id": "2a3fc221",
   "metadata": {},
   "outputs": [],
   "source": [
    "Rule no 2: A variable name should not start with a number\n"
   ]
  },
  {
   "cell_type": "code",
   "execution_count": 10,
   "id": "e572a109",
   "metadata": {},
   "outputs": [
    {
     "ename": "SyntaxError",
     "evalue": "invalid syntax (<ipython-input-10-3916ab352648>, line 1)",
     "output_type": "error",
     "traceback": [
      "\u001b[1;36m  File \u001b[1;32m\"<ipython-input-10-3916ab352648>\"\u001b[1;36m, line \u001b[1;32m1\u001b[0m\n\u001b[1;33m    1name = 'naveen'\u001b[0m\n\u001b[1;37m     ^\u001b[0m\n\u001b[1;31mSyntaxError\u001b[0m\u001b[1;31m:\u001b[0m invalid syntax\n"
     ]
    }
   ],
   "source": [
    "1name = 'naveen'"
   ]
  },
  {
   "cell_type": "markdown",
   "id": "a21a6f78",
   "metadata": {},
   "source": []
  },
  {
   "cell_type": "code",
   "execution_count": 11,
   "id": "51dfea29",
   "metadata": {},
   "outputs": [],
   "source": [
    "name1 = 'naveen'"
   ]
  },
  {
   "cell_type": "code",
   "execution_count": 12,
   "id": "c262454a",
   "metadata": {},
   "outputs": [
    {
     "name": "stdout",
     "output_type": "stream",
     "text": [
      "naveen\n"
     ]
    }
   ],
   "source": [
    "print(name1)"
   ]
  },
  {
   "cell_type": "code",
   "execution_count": null,
   "id": "7a730fcd",
   "metadata": {},
   "outputs": [],
   "source": [
    "Rule no 3 : A variable name should not contain any special characters.\n",
    "@$%&------------- we should not use them in between a variable------"
   ]
  },
  {
   "cell_type": "code",
   "execution_count": 13,
   "id": "06d9c73e",
   "metadata": {},
   "outputs": [
    {
     "ename": "SyntaxError",
     "evalue": "invalid syntax (<ipython-input-13-b36d27e39342>, line 2)",
     "output_type": "error",
     "traceback": [
      "\u001b[1;36m  File \u001b[1;32m\"<ipython-input-13-b36d27e39342>\"\u001b[1;36m, line \u001b[1;32m2\u001b[0m\n\u001b[1;33m    print(name@)\u001b[0m\n\u001b[1;37m               ^\u001b[0m\n\u001b[1;31mSyntaxError\u001b[0m\u001b[1;31m:\u001b[0m invalid syntax\n"
     ]
    }
   ],
   "source": [
    "name@='john'\n",
    "print(name@)"
   ]
  },
  {
   "cell_type": "code",
   "execution_count": null,
   "id": "1dcccb13",
   "metadata": {},
   "outputs": [],
   "source": [
    "Introduction to Datatypes in python:\n",
    "1. String------->str\n",
    "2. Numbers --------> integer (int) and floats (decimals)\n",
    "3. list ------------> list\n",
    "4. tuple -----> tuple\n",
    "5. Dictionaries ------> dict\n"
   ]
  },
  {
   "cell_type": "code",
   "execution_count": null,
   "id": "d36c2bc8",
   "metadata": {},
   "outputs": [],
   "source": [
    "Classification of datatypes :\n",
    "1. mutable datatype ------> We can be able to change or edit the data (flexible)\n",
    "2. immutable datatype ----> We will not be able to change or edit the data (fixed)"
   ]
  },
  {
   "cell_type": "code",
   "execution_count": null,
   "id": "02a4359d",
   "metadata": {},
   "outputs": [],
   "source": [
    "Introduction to string datatype:\n",
    "defination : A string is a series of characters enclosed in quotes\n",
    "classification: it is classifies as an immutable datatype\n",
    "how to declare a string -----------> 3 possible ways\n",
    "1 single quote\n",
    "2 double quote\n",
    "3 triple quote"
   ]
  },
  {
   "cell_type": "code",
   "execution_count": 14,
   "id": "b5335268",
   "metadata": {},
   "outputs": [
    {
     "name": "stdout",
     "output_type": "stream",
     "text": [
      "kumar\n"
     ]
    }
   ],
   "source": [
    "name='kumar'\n",
    "print(name)"
   ]
  },
  {
   "cell_type": "markdown",
   "id": "2d98e3a9",
   "metadata": {},
   "source": []
  },
  {
   "cell_type": "code",
   "execution_count": 15,
   "id": "0632a074",
   "metadata": {},
   "outputs": [
    {
     "name": "stdout",
     "output_type": "stream",
     "text": [
      "Hameed\n"
     ]
    }
   ],
   "source": [
    "name2=\"Hameed\"\n",
    "print(name2)"
   ]
  },
  {
   "cell_type": "code",
   "execution_count": 16,
   "id": "182f5ea6",
   "metadata": {},
   "outputs": [
    {
     "name": "stdout",
     "output_type": "stream",
     "text": [
      "keerthi\n"
     ]
    }
   ],
   "source": [
    "name3=\"\"\"keerthi\"\"\"\n",
    "print(name3)"
   ]
  },
  {
   "cell_type": "code",
   "execution_count": null,
   "id": "86477151",
   "metadata": {},
   "outputs": [],
   "source": [
    "# is used for commenting the lines in python"
   ]
  },
  {
   "cell_type": "code",
   "execution_count": 17,
   "id": "de8cb124",
   "metadata": {},
   "outputs": [
    {
     "ename": "SyntaxError",
     "evalue": "invalid syntax (<ipython-input-17-17763ba53104>, line 1)",
     "output_type": "error",
     "traceback": [
      "\u001b[1;36m  File \u001b[1;32m\"<ipython-input-17-17763ba53104>\"\u001b[1;36m, line \u001b[1;32m1\u001b[0m\n\u001b[1;33m    Introduction to string methods\u001b[0m\n\u001b[1;37m                 ^\u001b[0m\n\u001b[1;31mSyntaxError\u001b[0m\u001b[1;31m:\u001b[0m invalid syntax\n"
     ]
    }
   ],
   "source": [
    "Introduction to string methods\n",
    "Methods are builtin programs that are readily available to use in python\n",
    "\n",
    "type(name)"
   ]
  },
  {
   "cell_type": "code",
   "execution_count": 18,
   "id": "71f68ef9",
   "metadata": {},
   "outputs": [
    {
     "data": {
      "text/plain": [
       "str"
      ]
     },
     "execution_count": 18,
     "metadata": {},
     "output_type": "execute_result"
    }
   ],
   "source": [
    "type(name)"
   ]
  },
  {
   "cell_type": "code",
   "execution_count": 19,
   "id": "8a847faa",
   "metadata": {},
   "outputs": [
    {
     "data": {
      "text/plain": [
       "str"
      ]
     },
     "execution_count": 19,
     "metadata": {},
     "output_type": "execute_result"
    }
   ],
   "source": [
    "type(name2)"
   ]
  },
  {
   "cell_type": "code",
   "execution_count": 20,
   "id": "af97d2ec",
   "metadata": {},
   "outputs": [
    {
     "data": {
      "text/plain": [
       "str"
      ]
     },
     "execution_count": 20,
     "metadata": {},
     "output_type": "execute_result"
    }
   ],
   "source": [
    "type(name3)"
   ]
  },
  {
   "cell_type": "code",
   "execution_count": null,
   "id": "94d1472d",
   "metadata": {},
   "outputs": [],
   "source": [
    "Type method will be helping us to validate the data type.\n",
    "note : python is a case sensitive language."
   ]
  },
  {
   "cell_type": "code",
   "execution_count": null,
   "id": "39efefec",
   "metadata": {},
   "outputs": [],
   "source": [
    "Day2----------"
   ]
  }
 ],
 "metadata": {
  "kernelspec": {
   "display_name": "Python 3",
   "language": "python",
   "name": "python3"
  },
  "language_info": {
   "codemirror_mode": {
    "name": "ipython",
    "version": 3
   },
   "file_extension": ".py",
   "mimetype": "text/x-python",
   "name": "python",
   "nbconvert_exporter": "python",
   "pygments_lexer": "ipython3",
   "version": "3.8.8"
  }
 },
 "nbformat": 4,
 "nbformat_minor": 5
}
